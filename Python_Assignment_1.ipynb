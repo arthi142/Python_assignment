{
  "nbformat": 4,
  "nbformat_minor": 0,
  "metadata": {
    "colab": {
      "provenance": [],
      "authorship_tag": "ABX9TyM2dEKmHQEHBe4LxcJmG0f+",
      "include_colab_link": true
    },
    "kernelspec": {
      "name": "python3",
      "display_name": "Python 3"
    },
    "language_info": {
      "name": "python"
    }
  },
  "cells": [
    {
      "cell_type": "markdown",
      "metadata": {
        "id": "view-in-github",
        "colab_type": "text"
      },
      "source": [
        "<a href=\"https://colab.research.google.com/github/arthi142/Python_assignment/blob/main/Python_Assignment_1.ipynb\" target=\"_parent\"><img src=\"https://colab.research.google.com/assets/colab-badge.svg\" alt=\"Open In Colab\"/></a>"
      ]
    },
    {
      "cell_type": "code",
      "execution_count": 1,
      "metadata": {
        "colab": {
          "base_uri": "https://localhost:8080/"
        },
        "id": "wXD-Tsl7v7E7",
        "outputId": "da8ba454-8d3b-4c07-af49-e605cd012c72"
      },
      "outputs": [
        {
          "output_type": "stream",
          "name": "stdout",
          "text": [
            "Merged String: abcpqr\n"
          ]
        }
      ],
      "source": [
        "def merge_strings(word1, word2):\n",
        "    return word1 + word2\n",
        "\n",
        "word1 = \"abc\"\n",
        "word2 = \"pqr\"\n",
        "result = merge_strings(word1, word2)\n",
        "print(\"Merged String:\",result)"
      ]
    },
    {
      "cell_type": "code",
      "source": [
        "def merge_strings(word1, word2):\n",
        "    merged = ''.join(a + b for a, b in zip(word1, word2))\n",
        "    return merged + word1[len(word2):] + word2[len(word1):]\n",
        "\n",
        "word1 = \"ab\"\n",
        "word2 = \"pqrs\"\n",
        "\n",
        "result = merge_strings(word1, word2)\n",
        "print(result)  # Output: \"apbqrs\""
      ],
      "metadata": {
        "colab": {
          "base_uri": "https://localhost:8080/"
        },
        "id": "475FJmO7wa75",
        "outputId": "7d4b12f9-5028-45e0-af9c-617c85fdcf8e"
      },
      "execution_count": 2,
      "outputs": [
        {
          "output_type": "stream",
          "name": "stdout",
          "text": [
            "apbqrs\n"
          ]
        }
      ]
    },
    {
      "cell_type": "code",
      "source": [
        "word1 = \"abcd\"\n",
        "word2 = \"pq\"\n",
        "\n",
        "merged_string = word1 + word2\n",
        "print(merged_string)"
      ],
      "metadata": {
        "colab": {
          "base_uri": "https://localhost:8080/"
        },
        "id": "ptorN_z6wifA",
        "outputId": "7e505679-37ec-46f6-e25f-cf9eb7ea123a"
      },
      "execution_count": 3,
      "outputs": [
        {
          "output_type": "stream",
          "name": "stdout",
          "text": [
            "abcdpq\n"
          ]
        }
      ]
    },
    {
      "cell_type": "code",
      "source": [
        "import math\n",
        "\n",
        "def gcd_of_strings(str1, str2):\n",
        "    if str1 + str2 != str2 + str1:\n",
        "        return \"\"\n",
        "    gcd_length = math.gcd(len(str1), len(str2))\n",
        "    return str1[:gcd_length]\n",
        "str1 = \"ABABAB\"\n",
        "str2 = \"ABAB\"\n",
        "\n",
        "print(gcd_of_strings(str1, str2))"
      ],
      "metadata": {
        "colab": {
          "base_uri": "https://localhost:8080/"
        },
        "id": "swL5lSmhw8lw",
        "outputId": "b231b760-639d-4579-a431-d5110dd2b27f"
      },
      "execution_count": 4,
      "outputs": [
        {
          "output_type": "stream",
          "name": "stdout",
          "text": [
            "AB\n"
          ]
        }
      ]
    },
    {
      "cell_type": "code",
      "source": [
        "import math\n",
        "\n",
        "def gcd_of_strings(str1, str2):\n",
        "  if str1 + str2 != str2 + str1:\n",
        "    return \"\"\n",
        "  gcd_length = math.gcd(len(str1), len(str2))\n",
        "  return str1[:gcd_length]\n",
        "str1 = \"LEET\"\n",
        "str2 = \"CODE\"\n",
        "\n",
        "print(gcd_of_strings(str1, str2))"
      ],
      "metadata": {
        "colab": {
          "base_uri": "https://localhost:8080/"
        },
        "id": "7rETlfanzahq",
        "outputId": "b1718a71-ec79-49a7-9ce5-336f998e6f47"
      },
      "execution_count": 5,
      "outputs": [
        {
          "output_type": "stream",
          "name": "stdout",
          "text": [
            "\n"
          ]
        }
      ]
    }
  ]
}